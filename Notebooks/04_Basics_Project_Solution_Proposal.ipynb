{
 "cells": [
  {
   "cell_type": "markdown",
   "metadata": {},
   "source": [
    "# This is a project for using the basic functionality of ifcopenshell\n",
    "\n",
    "This is a solution proposal for the 03 basic project. \n",
    "\n",
    "Main Challenge: \n",
    "**Filter out all load bearing walls and visualize them**\n",
    "\n",
    "Optional:\n",
    "**Pull other properties and dump it to a csv file.**\n",
    "\n",
    "Main Challenge help: \n",
    "* A prerequisit for this challenge is the **01 Basic Introduction to Python for use with BIM notebook**\n",
    "* The **02 Basics with ifcopenshell notebook** might also be of use. \n",
    "\n",
    "And like always in programming there is **google** and especially for opensource community work, like with ifcopenshell, you could ask the community on github. \n",
    "\n",
    "Note: In all cells below. Add code after the comments. "
   ]
  },
  {
   "cell_type": "code",
   "execution_count": 6,
   "metadata": {},
   "outputs": [],
   "source": [
    "# Importing relevant modules\n",
    "import ifcopenshell\n",
    "import ifcopenshell.geom\n",
    "from ifc_viewer import ifc_viewer"
   ]
  },
  {
   "cell_type": "markdown",
   "metadata": {},
   "source": [
    "## Main Challenge"
   ]
  },
  {
   "cell_type": "code",
   "execution_count": 7,
   "metadata": {},
   "outputs": [],
   "source": [
    "# Create a function that takes in a tuple of IfcWall objects and returns the ones that are loadbaring in a list\n",
    "# Use the \".\" operator to travers and get its property sets. It is useful to check the buildingSMART documentation on IfcWall\n",
    "# Note: if you have a property in a variable p, then p.NominalValue.wrappedValue will give you the value.\n",
    "\n",
    "def get_load_bearing(walls):\n",
    "    def is_load_bearing(pset_wall_common):\n",
    "        props = pset_wall_common.HasProperties\n",
    "        for p in props:\n",
    "            if p.Name ==\"LoadBearing\":\n",
    "                return p.NominalValue.wrappedValue\n",
    "    # Thomas Krijens pro-tip: instead of appending to a list you could consider using a yield statement\n",
    "    lb_walls = []\n",
    "    for wall in walls:\n",
    "        psets = [rel.RelatingPropertyDefinition for rel in wall.IsDefinedBy if rel.is_a(\"IfcRelDefinesByProperties\")]\n",
    "        pset_wall_commons = [pset for pset in psets if pset.Name == \"Pset_WallCommon\"]\n",
    "        if len(pset_wall_commons) is not 0:\n",
    "            if is_load_bearing(pset_wall_commons[0]):\n",
    "                lb_walls.append(wall)\n",
    "        else:\n",
    "            print(\"Wall %s has no Pset_WallCommon!!\"%(wall.Name))\n",
    "            \n",
    "    return lb_walls\n",
    "\n"
   ]
  },
  {
   "cell_type": "code",
   "execution_count": 8,
   "metadata": {},
   "outputs": [],
   "source": [
    "# Start with importing your chosen model. Store it in a variable. \n",
    "file = ifcopenshell.open(\"../models/Grethes_hus_bok_2.ifc\")\n",
    "# Get a list of all walls and store it in a variable. \n",
    "walls = file.by_type(\"IfcWall\")\n",
    "# Use the function you have created, giving it the variable having the walls and store the result in another variable. \n",
    "load_bearing_walls = get_load_bearing(walls)"
   ]
  },
  {
   "cell_type": "code",
   "execution_count": 9,
   "metadata": {},
   "outputs": [
    {
     "data": {
      "application/vnd.jupyter.widget-view+json": {
       "model_id": "f1ae878219f34df98669f865f824f007",
       "version_major": 2,
       "version_minor": 0
      },
      "text/plain": [
       "Renderer(background='white', camera=PerspectiveCamera(children=(DirectionalLight(intensity=0.5, position=(50.0…"
      ]
     },
     "metadata": {},
     "output_type": "display_data"
    },
    {
     "data": {
      "application/vnd.jupyter.widget-view+json": {
       "model_id": "4355200dd1204c3bb0e1a0b7209f17c7",
       "version_major": 2,
       "version_minor": 0
      },
      "text/plain": [
       "HTML(value='No element selected')"
      ]
     },
     "metadata": {},
     "output_type": "display_data"
    }
   ],
   "source": [
    "## Set the proper geometry settings \n",
    "s = ifcopenshell.geom.settings()\n",
    "s.set(s.USE_PYTHON_OPENCASCADE, True)\n",
    "## Create a viewer object\n",
    "viewer = ifc_viewer()\n",
    "## Run trhough the loarbaring walls and create shapes and add that to the viewer object using the DisplayShape function. \n",
    "for wall in load_bearing_walls:\n",
    "    shape = ifcopenshell.geom.create_shape(s, wall)\n",
    "    viewer.DisplayShape(wall, shape.geometry, shape.styles)\n",
    "## Have the viewer display inline using the Display() function.\n",
    "viewer.Display()"
   ]
  },
  {
   "cell_type": "code",
   "execution_count": null,
   "metadata": {},
   "outputs": [],
   "source": []
  }
 ],
 "metadata": {
  "kernelspec": {
   "display_name": "Python 3",
   "language": "python",
   "name": "python3"
  },
  "language_info": {
   "codemirror_mode": {
    "name": "ipython",
    "version": 3
   },
   "file_extension": ".py",
   "mimetype": "text/x-python",
   "name": "python",
   "nbconvert_exporter": "python",
   "pygments_lexer": "ipython3",
   "version": "3.6.2"
  }
 },
 "nbformat": 4,
 "nbformat_minor": 2
}
